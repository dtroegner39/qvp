{
 "cells": [
  {
   "cell_type": "code",
   "execution_count": 15,
   "metadata": {},
   "outputs": [
    {
     "name": "stdout",
     "output_type": "stream",
     "text": [
      "\n",
      "## You are using the Python ARM Radar Toolkit (Py-ART), an open source\n",
      "## library for working with weather radar data. Py-ART is partly\n",
      "## supported by the U.S. Department of Energy as part of the Atmospheric\n",
      "## Radiation Measurement (ARM) Climate Research Facility, an Office of\n",
      "## Science user facility.\n",
      "##\n",
      "## If you use this software to prepare a publication, please cite:\n",
      "##\n",
      "##     JJ Helmus and SM Collis, JORS 2016, doi: 10.5334/jors.119\n",
      "\n"
     ]
    }
   ],
   "source": [
    "# turn on plotting\n",
    "%matplotlib inline\n",
    "import matplotlib.pyplot as plt\n",
    "import numpy as np\n",
    "from netCDF4 import num2date\n",
    "import matplotlib.dates as mdates\n",
    "#utilities for interacting with the OS\n",
    "import os\n",
    "\n",
    "import pyart"
   ]
  },
  {
   "cell_type": "code",
   "execution_count": 16,
   "metadata": {},
   "outputs": [],
   "source": [
    "\"\"\"\n",
    "pyart.retrieve.quasi_vertical_profile\n",
    "=====================================\n",
    "\n",
    "Retrieval of QVPs from a radar object\n",
    "\n",
    ".. autosummary::\n",
    "    :\n",
    "    :\n",
    "    \n",
    "    quasi_vertical_profile\n",
    "\"\"\"\n",
    "\n",
    "import numpy as np\n",
    "\n",
    "from pyart.io import read\n",
    "from pyart.core import antenna_to_cartesian\n",
    "\n",
    "\n",
    "\n",
    "def quasi_vertical_profile(filename, fields=None, gatefilter=None):\n",
    "    \n",
    "    \"\"\"\n",
    "    Quasi Vertical Profile.\n",
    "    \n",
    "    Creates a QVP object ....\n",
    "    \n",
    "    \n",
    "    Parameters\n",
    "    ----------\n",
    "    radar : Radar\n",
    "        Radar object used.\n",
    "    field : string\n",
    "        Radar field to use for QVP calculation.\n",
    "    \n",
    "    Other Parameters\n",
    "    ----------------\n",
    "    gatefilter : GateFilter\n",
    "        A GateFilter indicating radar gates that should be excluded\n",
    "        from the import qvp calculation\n",
    "        \n",
    "    Returns\n",
    "    -------\n",
    "    qvp : \n",
    "    \n",
    "    \n",
    "    References\n",
    "    ----------\n",
    "    Troemel, S., M. Kumjian, A. Ryzhkov, and C. Simmer, 2013: Backscatter \n",
    "    differential phase – estimation and variability. J. Appl. Meteor. Clim.. \n",
    "    52, 2529 – 2548.\n",
    "\n",
    "    Troemel, S., A. Ryzhkov, P. Zhang, and C. Simmer, 2014: Investigations \n",
    "    of backscatter differential phase in the melting layer. J. Appl. Meteorol. \n",
    "    Clim. 53, 2344 – 2359.\n",
    "\n",
    "    Ryzhkov, A., P. Zhang, H. Reeves, M. Kumjian, T. Tschallener, S. Troemel, \n",
    "    C. Simmer, 2015: Quasi-vertical profiles – a new way to look at polarimetric \n",
    "    radar data. Submitted to J. Atmos. Oceanic Technol.\n",
    "    \n",
    "    \"\"\"\n",
    "\n",
    "    radar = read(filename)\n",
    "    \n",
    "    if fields is None:\n",
    "        fields = radar.fields\n",
    "        \n",
    "    #if gatefilter is not None:\n",
    "        \n",
    "    desired_angle = 20.0\n",
    "    index = abs(radar.fixed_angle['data'] - desired_angle).argmin()\n",
    "    print(radar.fixed_angle['data'])\n",
    "    print(radar.elevation['data'][-1])\n",
    "    \n",
    "    qvp = {}\n",
    "    \n",
    "    for field in fields:\n",
    "        this_field = radar.get_field(index, field).mean(axis = 0)\n",
    "        qvp.update({field:this_field})\n",
    "    \n",
    "    qvp.update({'range': radar.range['data'], 'time': radar.time})\n",
    "    x,y,z = antenna_to_cartesian(qvp['range']/1000.0, 0.0, \n",
    "                                 radar.fixed_angle['data'][index])\n",
    "    qvp.update({'height': z})\n",
    "    return qvp"
   ]
  },
  {
   "cell_type": "code",
   "execution_count": 7,
   "metadata": {},
   "outputs": [],
   "source": [
    "#radar = pyart.io.read(\"/home/jhemedinger/dev_pyart/pyart_examples/XSW170519052004.RAW54YX\")"
   ]
  },
  {
   "cell_type": "code",
   "execution_count": 8,
   "metadata": {},
   "outputs": [
    {
     "name": "stdout",
     "output_type": "stream",
     "text": [
      "[ 0.49987793  1.4996338   2.4993896   3.4991455   4.4989014   5.498657\n",
      "  6.498413    7.498169    8.497925    9.497681   10.497437   11.502686\n",
      " 12.502441   14.002075   15.001831   17.001343   20.00061    24.99939\n",
      " 29.998169   40.00122    49.99878    54.99756    60.00183   ]\n",
      "59.941402\n"
     ]
    }
   ],
   "source": [
    "#qvp = quasi_vertical_profile(radar)"
   ]
  },
  {
   "cell_type": "code",
   "execution_count": null,
   "metadata": {},
   "outputs": [],
   "source": []
  },
  {
   "cell_type": "code",
   "execution_count": 9,
   "metadata": {},
   "outputs": [
    {
     "data": {
      "text/plain": [
       "Text(0, 0.5, 'Height Above Ground (km)')"
      ]
     },
     "execution_count": 9,
     "metadata": {},
     "output_type": "execute_result"
    },
    {
     "data": {
      "image/png": "[encoded data removed]",
      "text/plain": [
       "<Figure size 864x576 with 1 Axes>"
      ]
     },
     "metadata": {
      "needs_background": "light"
     },
     "output_type": "display_data"
    }
   ],
   "source": [
    "fig = plt.figure(figsize=(12,8))\n",
    "plt.plot(qvp['reflectivity'], qvp['height']/1000.0)\n",
    "plt.xlabel('Mean Reflectivity (dbZ)')\n",
    "plt.ylabel('Height Above Ground (km)')"
   ]
  }
 ],
 "metadata": {
  "kernelspec": {
   "display_name": "Python 3",
   "language": "python",
   "name": "python3"
  },
  "language_info": {
   "codemirror_mode": {
    "name": "ipython",
    "version": 3
   },
   "file_extension": ".py",
   "mimetype": "text/x-python",
   "name": "python",
   "nbconvert_exporter": "python",
   "pygments_lexer": "ipython3",
   "version": "3.6.6"
  }
 },
 "nbformat": 4,
 "nbformat_minor": 2
}
